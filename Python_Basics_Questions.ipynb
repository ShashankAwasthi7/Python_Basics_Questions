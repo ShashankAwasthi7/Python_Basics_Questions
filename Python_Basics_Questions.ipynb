{
 "cells": [
  {
   "cell_type": "raw",
   "id": "6775edc1-dd00-4027-babc-9a71c8c8637d",
   "metadata": {},
   "source": []
  },
  {
   "cell_type": "markdown",
   "id": "4fe1f165-e2e5-4b0b-9d4a-73460649fdb7",
   "metadata": {},
   "source": [
    "# Python Basics Assingment Questions\n"
   ]
  },
  {
   "cell_type": "markdown",
   "id": "7a26f128-c9d5-4eed-9a68-b7938307e166",
   "metadata": {},
   "source": [
    "Q1-What is Python, and why is it popular?\n",
    "A1-Python is a high-level, interpreted programming language known for its readability and simplicity.\n",
    "Created by Guido van Rossum in 1991, Python is widely used across various domains, including web development, data science, machine learning, automation, and software development.\n",
    "1-Easy syntax\n",
    "2-Strong community\n",
    "3-Vast libraries"
   ]
  },
  {
   "cell_type": "markdown",
   "id": "f05a90f9-0069-42f0-9c72-0f5bfe4e3c62",
   "metadata": {},
   "source": [
    " Q2-What is an interpreter in Python?\n",
    " A2-An interpreter executes Python code line by line, translating it into machine-understandable instructions at runtime."
   ]
  },
  {
   "cell_type": "markdown",
   "id": "9fbba3e9-e714-47e3-a790-4f4949ca544c",
   "metadata": {},
   "source": [
    "Q3-What are pre-defined keywords in Python?\n",
    "A3-hese are reserved words with special meanings (e.g., False      await      else       import     pass\n",
    "None       break      except     in         raise\n",
    "True       class      finally    is         return\n",
    "and        continue   for        lambda     try\n",
    "as         def        from       nonlocal   while\n",
    "assert     del        global     not        with\n",
    "async      elif       if         or         yield\n",
    "). They’re part of the Python syntax and cannot be redefined."
   ]
  },
  {
   "cell_type": "markdown",
   "id": "c1a9ed79-0dc7-4d59-af0b-aa997632d8e9",
   "metadata": {},
   "source": [
    "Q4-Can keywords be used as variable names?\n",
    "A4-No, using keywords as variable names will raise a syntax error. They’re reserved for language functionality."
   ]
  },
  {
   "cell_type": "markdown",
   "id": "4ade4bda-321f-4001-9045-1574d91654ce",
   "metadata": {},
   "source": [
    "Q5-What is mutability in Python?\n",
    "A5-Mutability refers to whether an object’s value can be changed after creation. Mutable types can be modified (e.g., lists), while immutable types cannot (e.g., strings)."
   ]
  },
  {
   "cell_type": "markdown",
   "id": "e6669e58-8246-4a8a-871d-bab3cecc9eec",
   "metadata": {},
   "source": [
    "Q6-Why are lists mutable, but tuples are immutable?\n",
    "A6-Lists are designed for dynamic data changes, whereas tuples are intended for fixed data. This design choice helps with data safety and optimization."
   ]
  },
  {
   "cell_type": "markdown",
   "id": "1d8f0ff4-2a07-4b83-92cf-7730116d6308",
   "metadata": {},
   "source": [
    "Q7-What is the difference between == and is operators in Python?\n",
    "A7-\n",
    "== checks value equality\n",
    "is checks object identity (i.e., whether two references point to the same memory location)"
   ]
  },
  {
   "cell_type": "markdown",
   "id": "dc93cd89-157a-4594-93f6-beb36babbced",
   "metadata": {},
   "source": [
    "Q8-What are logical operators in Python?\n",
    "and: True if both operands are true\n",
    "\n",
    "or: True if at least one operand is true\n",
    "\n",
    "not: Inverts the truth value\n",
    "\n",
    "Example:\n",
    "x = 5\n",
    "y = 10\n",
    "\n",
    "print(x > 2 and y < 15)  # True and True → True\n",
    "print(x > 7 or y < 12)   # False or True → True\n",
    "print(not(x < y))        # not(True) → False\n"
   ]
  },
  {
   "cell_type": "markdown",
   "id": "bbc1892a-5d90-454d-9666-df969cb9bada",
   "metadata": {},
   "source": [
    "Q9-What is type casting in Python?\n",
    "Type casting converts one data type into another. Example: int(\"73464\") converts a string to an integer."
   ]
  },
  {
   "cell_type": "markdown",
   "id": "7f22dee9-d7a3-4121-914f-efa99d172a71",
   "metadata": {},
   "source": [
    "Q10-Difference between implicit and explicit type casting?\n",
    "Implicit: Python automatically converts types (example., adding int and float returns float)\n",
    "\n",
    "Explicit: Programmer manually casts types (example., str(30))"
   ]
  },
  {
   "cell_type": "markdown",
   "id": "2aaab84f-de05-4766-b5d7-1e72b3c33d1a",
   "metadata": {},
   "source": [
    "Q11-Purpose of conditional statements in Python?\n",
    "They control the flow of a program by executing specific code blocks based on conditions using if, elif, and else."
   ]
  },
  {
   "cell_type": "markdown",
   "id": "d7a5a75c-bcdb-4548-bef1-ce8c21ee175d",
   "metadata": {},
   "source": [
    "Q12-How does the elif statement work?\n",
    "A12-elif stands for “else if.” It allows for multiple condition checks in an if-else structure, evaluated top-down until one is true.\n",
    "\n"
   ]
  },
  {
   "cell_type": "markdown",
   "id": "55624e49-7f96-4eec-b732-bfe40382c997",
   "metadata": {},
   "source": [
    "Q13-Difference between for and while loops?\n",
    "A13-for: Loops over a sequence (like a list or range)\n",
    "\n",
    "while: Runs as long as a condition remains true"
   ]
  },
  {
   "cell_type": "markdown",
   "id": "48ee990a-c860-4dd9-b509-6df8e0d8c73d",
   "metadata": {},
   "source": [
    "Q14-Describe a scenario where a while loop more suitable than a for loop?\n",
    "A14-Use while when the number of iterations isn’t known in advance. Example: waiting for user input to meet a condition."
   ]
  },
  {
   "cell_type": "markdown",
   "id": "90eb9e49-1ae8-4dd3-8876-984c9e762dac",
   "metadata": {},
   "source": []
  },
  {
   "cell_type": "markdown",
   "id": "d7c9f0b9-caa5-4d1c-a1c8-36d9851641a4",
   "metadata": {},
   "source": [
    "# Practical Questions\n",
    "\n"
   ]
  },
  {
   "cell_type": "code",
   "execution_count": 18,
   "id": "74fef7a3-9187-437e-9778-51ee60e32ab6",
   "metadata": {},
   "outputs": [
    {
     "name": "stdout",
     "output_type": "stream",
     "text": [
      "Hello, World!\n"
     ]
    }
   ],
   "source": [
    "#    1. Write a Python program to print \"Hello, World!\"\n",
    "print(\"Hello, World!\")\n"
   ]
  },
  {
   "cell_type": "code",
   "execution_count": 19,
   "id": "56c5678b-b46f-4ae8-9651-00db28e49944",
   "metadata": {},
   "outputs": [
    {
     "name": "stdout",
     "output_type": "stream",
     "text": [
      "My name is Shashank Awasthi and I am 33 years old.\n"
     ]
    }
   ],
   "source": [
    "#2. Write a Python program that displays your name and age.\n",
    "name = \"Shashank Awasthi\"\n",
    "age = 33\n",
    "print(f\"My name is {name} and I am {age} years old.\")\n"
   ]
  },
  {
   "cell_type": "code",
   "execution_count": 20,
   "id": "7b724259-834b-422c-9b81-bfc1227f807d",
   "metadata": {},
   "outputs": [
    {
     "name": "stdout",
     "output_type": "stream",
     "text": [
      "['False', 'None', 'True', 'and', 'as', 'assert', 'async', 'await', 'break', 'class', 'continue', 'def', 'del', 'elif', 'else', 'except', 'finally', 'for', 'from', 'global', 'if', 'import', 'in', 'is', 'lambda', 'nonlocal', 'not', 'or', 'pass', 'raise', 'return', 'try', 'while', 'with', 'yield']\n"
     ]
    }
   ],
   "source": [
    "# 3. Write code to print all the pre-defined keywords in Python using the keyword library.\n",
    "import keyword\n",
    "print(keyword.kwlist)\n"
   ]
  },
  {
   "cell_type": "code",
   "execution_count": null,
   "id": "b1120548-203f-4a53-899e-574967627b00",
   "metadata": {},
   "outputs": [],
   "source": [
    "# 4. Write a program that checks if a given word is a Python keyword.\n",
    "import keyword\n",
    "word = input(\"Enter a word: \")\n",
    "print(f\"{word} is a keyword: {keyword.iskeyword(word)}\")\n"
   ]
  },
  {
   "cell_type": "code",
   "execution_count": 7,
   "id": "5127fdc3-5565-488b-a249-e0d19c3bb776",
   "metadata": {},
   "outputs": [
    {
     "name": "stdout",
     "output_type": "stream",
     "text": [
      "[33, 2, 3]\n",
      "(0, 1, 2, 3, 4, 5)\n"
     ]
    }
   ],
   "source": [
    "# 5. Create a list and tuple in Python, and demonstrate how attempting to change an element works differently for each.\n",
    "l=[1,2,3]\n",
    "l[0]=33\n",
    "print(l)# here i use indexing to change the the list elememt in list\n",
    "\n",
    "t=(0,1,2,3,4)# first i create a tuple\n",
    "t+=(5,)\n",
    "print(t) # here i use concatination method to change the element inside the tupple"
   ]
  },
  {
   "cell_type": "code",
   "execution_count": null,
   "id": "c9f88405-79a4-4248-8f09-cd0de4b93347",
   "metadata": {},
   "outputs": [],
   "source": [
    "# 6. Write a function to demonstrate the behavior of mutable and immutable arguments.\n",
    "def demo(a, b):\n",
    "    a += 5       # int is immutable\n",
    "    b.append(4)  # list is mutable\n",
    "\n",
    "x = 10\n",
    "y = [1, 2, 3]\n",
    "\n",
    "demo(x, y)\n",
    "\n",
    "print(x)  # 10 → unchanged\n",
    "print(y)  # [1, 2, 3, 4] → changed\n"
   ]
  },
  {
   "cell_type": "code",
   "execution_count": 27,
   "id": "5c7a5185-a586-46bd-8fce-0ace24ec0be2",
   "metadata": {},
   "outputs": [
    {
     "name": "stdin",
     "output_type": "stream",
     "text": [
      "Enter first number :    233\n",
      "Enter secound number :  322\n"
     ]
    },
    {
     "name": "stdout",
     "output_type": "stream",
     "text": [
      "----------------------------------------\n",
      "Addition 555\n",
      "----------------------------------------\n",
      "subtraction -89\n",
      "----------------------------------------\n",
      "multiplication 75026\n",
      "----------------------------------------\n",
      "divide  0.7236024844720497\n",
      "----------------------------------------\n"
     ]
    }
   ],
   "source": [
    "# 7. Write a program that performs basic arithmetic operations on two user-input numbers.\n",
    "x=int(input(\"Enter first number :   \"))\n",
    "y=int(input(\"Enter secound number : \"))\n",
    "\n",
    "\n",
    "\n",
    "def add(n1,n2):\n",
    "    return n1+n2\n",
    "def subtract(n1,n2):\n",
    "    return n1-n2\n",
    "def multiply(n1,n2):\n",
    "    return n1*n2\n",
    "def division(n1,n2):\n",
    "    if n2==0:\n",
    "        return \"can not divide by zero !\"\n",
    "    return n1/n2\n",
    "\n",
    "\n",
    "print(\"----\"*10)\n",
    "print(\"Addition\",add(x,y))\n",
    "print(\"----\"*10)\n",
    "print(\"subtraction\",subtract(x,y))\n",
    "print(\"----\"*10)\n",
    "print(\"multiplication\",multiply(x,y))\n",
    "print(\"----\"*10)\n",
    "print(\"divide \",division(x,y))\n",
    "print(\"----\"*10)"
   ]
  },
  {
   "cell_type": "code",
   "execution_count": 29,
   "id": "a84c91f1-71db-428d-85b5-e3ca20346590",
   "metadata": {},
   "outputs": [
    {
     "name": "stdin",
     "output_type": "stream",
     "text": [
      "Enter first number:  32\n",
      "Enter second number:  232\n"
     ]
    },
    {
     "name": "stdout",
     "output_type": "stream",
     "text": [
      "Both numbers are positive: True\n",
      "At least one number is positive: True\n",
      "First number is NOT positive: False\n"
     ]
    }
   ],
   "source": [
    "# 8. Write a program to demonstrate the use of logical operators.\n",
    "# Ask user to enter two numbers\n",
    "a = int(input(\"Enter first number: \"))\n",
    "b = int(input(\"Enter second number: \"))\n",
    "\n",
    "# Use AND operator\n",
    "print(\"Both numbers are positive:\", a > 0 and b > 0)\n",
    "\n",
    "# Use OR operator\n",
    "print(\"At least one number is positive:\", a > 0 or b > 0)\n",
    "\n",
    "# Use NOT operator\n",
    "print(\"First number is NOT positive:\", not a > 0)\n"
   ]
  },
  {
   "cell_type": "code",
   "execution_count": 47,
   "id": "5152b8a6-a352-4da6-b8f7-487aa00a9d27",
   "metadata": {},
   "outputs": [
    {
     "name": "stdin",
     "output_type": "stream",
     "text": [
      "ENTER ANYTHING : 54\n"
     ]
    },
    {
     "name": "stdout",
     "output_type": "stream",
     "text": [
      "----------\n",
      "<class 'int'>\n",
      "----------\n",
      "<class 'float'>\n",
      "----------\n",
      "<class 'bool'>\n",
      "----------\n"
     ]
    }
   ],
   "source": [
    "# 9. Write a Python program to convert user input from string to integer, float, and boolean types.\n",
    "\n",
    "\n",
    "user_input=input(\"ENTER ANYTHING :\")\n",
    "print(\"-\" * 10)\n",
    "\n",
    "int_value=int(user_input)\n",
    "print(type(int_value))\n",
    "print(\"-\" * 10)\n",
    "\n",
    "float_value=float(user_input)\n",
    "print(type(float_value))\n",
    "print(\"-\" * 10)\n",
    "\n",
    "\n",
    "bool_value=bool(user_input)\n",
    "print(type(bool_value))\n",
    "print(\"-\" * 10)\n"
   ]
  },
  {
   "cell_type": "code",
   "execution_count": 53,
   "id": "8f6caf3f-c19e-4a03-864d-25d92da98c25",
   "metadata": {},
   "outputs": [
    {
     "name": "stdout",
     "output_type": "stream",
     "text": [
      "['1', '2', '3', '4', '5', '6']\n",
      "----------\n",
      "[1, 2, 3, 4, 5, 6]\n",
      "----------\n",
      "[1.0, 2.0, 3.0, 4.0, 5.0, 6.0]\n",
      "----------\n",
      "[True, True, True, True, True, True]\n",
      "----------\n"
     ]
    }
   ],
   "source": [
    "# 10. Write code to demonstrate type casting with list elements.\n",
    "l=['1','2','3','4','5','6']\n",
    "print(l)\n",
    "print(\"-\" * 10)\n",
    "int_list=[int(x) for x in l]\n",
    "print(int_list)\n",
    "print(\"-\" * 10)\n",
    "float_list=[float(x) for x in l]\n",
    "print(float_list)\n",
    "print('-'*10)\n",
    "bool_list=[bool(x) for x in l]\n",
    "print(bool_list)\n",
    "print('-'*10)"
   ]
  },
  {
   "cell_type": "code",
   "execution_count": 59,
   "id": "4d860b62-ea6c-43d1-8018-11b8cb6f6954",
   "metadata": {},
   "outputs": [
    {
     "name": "stdin",
     "output_type": "stream",
     "text": [
      "Enter a number :  4.5\n"
     ]
    },
    {
     "name": "stdout",
     "output_type": "stream",
     "text": [
      "4.5 is +ve.\n"
     ]
    }
   ],
   "source": [
    "# 11. Write a program that checks if a number is positive, negative, or zero.\n",
    "\n",
    "def check_num():\n",
    "    num=float(input(\"Enter a number : \"))\n",
    "\n",
    "    if num>0:\n",
    "        print(f'{num} is +ve.')\n",
    "    elif num <0:\n",
    "        print(f'{num} is -ve.')\n",
    "    else:\n",
    "        print(f'{num} is zero')\n",
    "\n",
    "\n",
    "check_num()\n",
    "\n",
    "\n",
    "\n",
    "\n",
    "\n",
    "\n",
    "\n",
    "\n"
   ]
  },
  {
   "cell_type": "code",
   "execution_count": 63,
   "id": "f1ffa5a5-c761-4c7a-8dac-86a75c09d1be",
   "metadata": {},
   "outputs": [
    {
     "name": "stdout",
     "output_type": "stream",
     "text": [
      "1  2  3  4  5  6  7  8  9  10  "
     ]
    }
   ],
   "source": [
    "# 12. Write a for loop to print numbers from 1 to 10.\n",
    "for num in range(1,11):\n",
    "    print(num, end=\"  \")"
   ]
  },
  {
   "cell_type": "code",
   "execution_count": 65,
   "id": "a4b5ccad-c4ca-4fad-87bc-4c06bcd842cc",
   "metadata": {},
   "outputs": [
    {
     "name": "stdout",
     "output_type": "stream",
     "text": [
      " The sum of all even number between 1 and 50 is:650\n"
     ]
    }
   ],
   "source": [
    "# 13. Write a Python program to find the sum of all even numbers between 1 and 50.\n",
    "total=0\n",
    "for num in range(1,51):\n",
    "    if num % 2 == 0:\n",
    "        total+=num\n",
    "print(f\" The sum of all even number between 1 and 50 is:{total}\")\n",
    "\n"
   ]
  },
  {
   "cell_type": "code",
   "execution_count": 3,
   "id": "c33fe0e0-f0ba-4868-85c3-62e39dad0f2a",
   "metadata": {},
   "outputs": [
    {
     "name": "stdout",
     "output_type": "stream",
     "text": [
      "Reversed string: olleh\n"
     ]
    }
   ],
   "source": [
    "# 14. Write a program to reverse a string using a while loop.\n",
    "text = \"hello\"\n",
    "rev = \"\"\n",
    "i = len(text) - 1\n",
    "\n",
    "while i >= 0:\n",
    "    rev += text[i]\n",
    "    i -= 1\n",
    "\n",
    "print(\"Reversed string:\", rev)\n"
   ]
  },
  {
   "cell_type": "code",
   "execution_count": 1,
   "id": "45644b78-1a15-4eb3-a323-72027b59a118",
   "metadata": {},
   "outputs": [
    {
     "name": "stdin",
     "output_type": "stream",
     "text": [
      "Enter a number:  656\n"
     ]
    },
    {
     "name": "stdout",
     "output_type": "stream",
     "text": [
      "Factorial: 62999271183970348149140497338094453619778518297733672998198482692146429272169195630138469872475136805167198962830012321457346366216928492024574123827691550054454870615526411914699955483864141122564818176357251692893420991584842254274585544968889749590997342472635606168376013536720813776947014008126668898846693470910300777388582755774261225093739511742348796125693170868093896277848061042510919945141458318015427548095885065766817021942412210038590461892722488262534266942701143721844907837448867310761121437376579673053935139786678150029516347064843204135924959856473461750142870916626057814906942583475286604135575224038774218799763801579026548529309256462681001621465008676389069221441862686125098596410333696289622855294304356236134242657078690704834282551916658617608341803430661726543241370018482883226080820934485120127707708165908148021703842571945596979184200146520853304453145337054830627283247578701984588146987295731417988603267296721396882087129740201554512196833246124537779934297814850132816952760192205490666360660887758100303938211842112195031149114297754955189589803503495051509001505547917924429180553023150296195827080303839681625565371455422943299863289361218626192062062749162829742900858627580535501203277688436359441398012374546631483404911598406711853368172100697260144070580307689714682664125525685921253650664983390208597827249900255103756878435487689759967819237563647918080000000000000000000000000000000000000000000000000000000000000000000000000000000000000000000000000000000000000000000000000000000000000000000000000000000000000000000\n"
     ]
    }
   ],
   "source": [
    "# 15. Write a Python program to calculate the factorial of a number provided by the user using a while loop.\n",
    "n = int(input(\"Enter a number: \"))\n",
    "fact = 1\n",
    "i = 1\n",
    "\n",
    "while i <= n:\n",
    "    fact *= i\n",
    "    i += 1\n",
    "\n",
    "print(\"Factorial:\", fact)\n"
   ]
  },
  {
   "cell_type": "code",
   "execution_count": null,
   "id": "cababe7f-c538-4a38-8a09-b96ed5aed6fc",
   "metadata": {},
   "outputs": [],
   "source": []
  }
 ],
 "metadata": {
  "kernelspec": {
   "display_name": "Python [conda env:base] *",
   "language": "python",
   "name": "conda-base-py"
  },
  "language_info": {
   "codemirror_mode": {
    "name": "ipython",
    "version": 3
   },
   "file_extension": ".py",
   "mimetype": "text/x-python",
   "name": "python",
   "nbconvert_exporter": "python",
   "pygments_lexer": "ipython3",
   "version": "3.12.7"
  }
 },
 "nbformat": 4,
 "nbformat_minor": 5
}
